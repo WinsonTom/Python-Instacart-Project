{
 "cells": [
  {
   "cell_type": "code",
   "execution_count": 1,
   "id": "e137e76c",
   "metadata": {
    "tags": []
   },
   "outputs": [],
   "source": [
    "#Import Libraries\n",
    "import pandas as pd\n",
    "import numpy as np\n",
    "import os"
   ]
  },
  {
   "cell_type": "code",
   "execution_count": 8,
   "id": "6752877b",
   "metadata": {},
   "outputs": [],
   "source": [
    "#2 Data Types - Code 3 different ways of reaching a result of 100 by adding or subtracting numeric variables."
   ]
  },
  {
   "cell_type": "code",
   "execution_count": 9,
   "id": "7f22b467-7672-4478-b64d-9bb5c6eb047d",
   "metadata": {},
   "outputs": [],
   "source": [
    "x=100"
   ]
  },
  {
   "cell_type": "code",
   "execution_count": 10,
   "id": "6dafe06a-621b-484e-a3ac-3da79882f8bf",
   "metadata": {},
   "outputs": [],
   "source": [
    "y=200"
   ]
  },
  {
   "cell_type": "code",
   "execution_count": 11,
   "id": "5173788f-8468-4243-b0bf-0646d5730d0d",
   "metadata": {},
   "outputs": [],
   "source": [
    "z=300"
   ]
  },
  {
   "cell_type": "code",
   "execution_count": 12,
   "id": "e6162ab7",
   "metadata": {},
   "outputs": [
    {
     "name": "stdout",
     "output_type": "stream",
     "text": [
      "100\n"
     ]
    }
   ],
   "source": [
    "print(x)"
   ]
  },
  {
   "cell_type": "code",
   "execution_count": 13,
   "id": "1bc1e109",
   "metadata": {},
   "outputs": [
    {
     "name": "stdout",
     "output_type": "stream",
     "text": [
      "100\n"
     ]
    }
   ],
   "source": [
    "print(y-x)"
   ]
  },
  {
   "cell_type": "code",
   "execution_count": 14,
   "id": "1a0c6da5-3ae7-4ee0-ba63-7babfd09e3a4",
   "metadata": {},
   "outputs": [
    {
     "name": "stdout",
     "output_type": "stream",
     "text": [
      "100\n"
     ]
    }
   ],
   "source": [
    "print(z-y)"
   ]
  },
  {
   "cell_type": "markdown",
   "id": "c8d9c67e-59ad-4302-af0e-f53512e04c33",
   "metadata": {},
   "source": [
    "#Code 2 floating-point variables and divide them by each other."
   ]
  },
  {
   "cell_type": "code",
   "execution_count": 15,
   "id": "548cdb8c",
   "metadata": {},
   "outputs": [],
   "source": [
    "x=2.3"
   ]
  },
  {
   "cell_type": "code",
   "execution_count": 16,
   "id": "cb18e362",
   "metadata": {},
   "outputs": [],
   "source": [
    "y=11.5"
   ]
  },
  {
   "cell_type": "code",
   "execution_count": 17,
   "id": "eb82ad59",
   "metadata": {},
   "outputs": [
    {
     "name": "stdout",
     "output_type": "stream",
     "text": [
      "5.0\n"
     ]
    }
   ],
   "source": [
    "print(y/x)"
   ]
  },
  {
   "cell_type": "code",
   "execution_count": 18,
   "id": "cea1393e",
   "metadata": {},
   "outputs": [],
   "source": [
    "#Construct a short word made of separate strings (you’ll need to concatenate some strings!)."
   ]
  },
  {
   "cell_type": "code",
   "execution_count": 20,
   "id": "1bee85d2",
   "metadata": {},
   "outputs": [],
   "source": [
    "a='Career'"
   ]
  },
  {
   "cell_type": "code",
   "execution_count": 21,
   "id": "65b12646",
   "metadata": {},
   "outputs": [],
   "source": [
    "b='Foundry'"
   ]
  },
  {
   "cell_type": "code",
   "execution_count": 23,
   "id": "a73d96e7",
   "metadata": {},
   "outputs": [
    {
     "data": {
      "text/plain": [
       "'CareerFoundry'"
      ]
     },
     "execution_count": 23,
     "metadata": {},
     "output_type": "execute_result"
    }
   ],
   "source": [
    "a+b"
   ]
  },
  {
   "cell_type": "code",
   "execution_count": 24,
   "id": "a55b95e3",
   "metadata": {},
   "outputs": [],
   "source": [
    "#Construct 2 short sentences made of separate strings."
   ]
  },
  {
   "cell_type": "code",
   "execution_count": 25,
   "id": "60458399",
   "metadata": {},
   "outputs": [],
   "source": [
    "a='CareerFoundry Task'"
   ]
  },
  {
   "cell_type": "code",
   "execution_count": 26,
   "id": "594cc130",
   "metadata": {},
   "outputs": [],
   "source": [
    "b='4.2 Importing libraries and Python data type'"
   ]
  },
  {
   "cell_type": "code",
   "execution_count": 27,
   "id": "6b8865e5",
   "metadata": {},
   "outputs": [
    {
     "data": {
      "text/plain": [
       "'CareerFoundry Task4.2 Importing libraries and Python data type'"
      ]
     },
     "execution_count": 27,
     "metadata": {},
     "output_type": "execute_result"
    }
   ],
   "source": [
    "a+b"
   ]
  },
  {
   "cell_type": "code",
   "execution_count": null,
   "id": "e4414879",
   "metadata": {},
   "outputs": [],
   "source": []
  }
 ],
 "metadata": {
  "kernelspec": {
   "display_name": "Python 3 (ipykernel)",
   "language": "python",
   "name": "python3"
  },
  "language_info": {
   "codemirror_mode": {
    "name": "ipython",
    "version": 3
   },
   "file_extension": ".py",
   "mimetype": "text/x-python",
   "name": "python",
   "nbconvert_exporter": "python",
   "pygments_lexer": "ipython3",
   "version": "3.11.5"
  }
 },
 "nbformat": 4,
 "nbformat_minor": 5
}
